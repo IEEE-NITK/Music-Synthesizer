{
  "nbformat": 4,
  "nbformat_minor": 0,
  "metadata": {
    "colab": {
      "name": "Play_Audio_From_txt.ipynb",
      "provenance": [],
      "collapsed_sections": []
    },
    "kernelspec": {
      "name": "python3",
      "display_name": "Python 3"
    },
    "language_info": {
      "name": "python"
    }
  },
  "cells": [
    {
      "cell_type": "code",
      "metadata": {
        "id": "JjN_0htex5gv"
      },
      "source": [
        "#Importing essential libraries\n",
        "import numpy as np\n",
        "from IPython.display import Audio\n",
        "from scipy.io import wavfile"
      ],
      "execution_count": 1,
      "outputs": []
    },
    {
      "cell_type": "code",
      "metadata": {
        "id": "hhnYnbO5hrg1"
      },
      "source": [
        "file = open(f'/content/audio.txt', 'r')\n",
        "binary = []\n",
        "while 1:\n",
        "    a = 0\n",
        "    # read character by character\n",
        "    cha = file.read(1)          \n",
        "    if not cha: \n",
        "        break\n",
        "    if cha.isdigit() == True:\n",
        "      a += int(cha)\n",
        "      binary.append(a)\n",
        "    #print(sound)\n",
        "file.close()\n",
        "binary = np.array(binary)"
      ],
      "execution_count": 8,
      "outputs": []
    },
    {
      "cell_type": "code",
      "metadata": {
        "id": "bY4AYEQHyFRN"
      },
      "source": [
        "#Converting to decimal\n",
        "sound = []\n",
        "#count = 0\n",
        "i = 7\n",
        "while i!= 20007:\n",
        "  sound.append(binary[i]*1+binary[i-1]*2+binary[i-2]*4+binary[i-3]*8+binary[i-4]*16+binary[i-5]*32+binary[i-6]*64+binary[i-7]*128)\n",
        "  i = i+8\n"
      ],
      "execution_count": 9,
      "outputs": []
    },
    {
      "cell_type": "code",
      "metadata": {
        "colab": {
          "base_uri": "https://localhost:8080/",
          "height": 281
        },
        "id": "KWdBcmAluSIc",
        "outputId": "d98daef0-31b5-4b92-ed9b-c187fd834478"
      },
      "source": [
        "import matplotlib.pyplot as plt\n",
        "plt.plot(np.array(sound))"
      ],
      "execution_count": 10,
      "outputs": [
        {
          "output_type": "execute_result",
          "data": {
            "text/plain": [
              "[<matplotlib.lines.Line2D at 0x7f919ab4d6d0>]"
            ]
          },
          "metadata": {
            "tags": []
          },
          "execution_count": 10
        },
        {
          "output_type": "display_data",
          "data": {
            "image/png": "[encoded data removed]",
            "text/plain": [
              "<Figure size 432x288 with 1 Axes>"
            ]
          },
          "metadata": {
            "tags": [],
            "needs_background": "light"
          }
        }
      ]
    },
    {
      "cell_type": "code",
      "metadata": {
        "colab": {
          "base_uri": "https://localhost:8080/",
          "height": 74
        },
        "id": "PfxM_4AKyIu2",
        "outputId": "2d29d315-ccdd-427b-9d39-ffcc77b3fc16"
      },
      "source": [
        "#Play Audio\n",
        "from IPython.display import Audio\n",
        "fs = 5000\n",
        "Audio(2000*np.array(sound), rate = fs)"
      ],
      "execution_count": 11,
      "outputs": [
        {
          "output_type": "execute_result",
          "data": {
            "text/html": [
              "\n",
              "                <audio controls=\"controls\" >\n",
              "                    <source src=\"data:audio/wav;base64,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\" type=\"audio/wav\" />\n",
              "                    Your browser does not support the audio element.\n",
              "                </audio>\n",
              "              "
            ],
            "text/plain": [
              "<IPython.lib.display.Audio object>"
            ]
          },
          "metadata": {
            "tags": []
          },
          "execution_count": 11
        }
      ]
    }
  ]
}
