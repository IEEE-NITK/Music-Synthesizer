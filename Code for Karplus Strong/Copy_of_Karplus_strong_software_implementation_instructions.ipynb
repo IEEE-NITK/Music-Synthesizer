{
  "nbformat": 4,
  "nbformat_minor": 0,
  "metadata": {
    "colab": {
      "name": "Copy of Karplus_strong_software_implementation_instructions.ipynb",
      "provenance": [],
      "collapsed_sections": []
    },
    "kernelspec": {
      "name": "python3",
      "display_name": "Python 3"
    },
    "language_info": {
      "name": "python"
    }
  },
  "cells": [
    {
      "cell_type": "code",
      "metadata": {
        "id": "W9Cp3zv7hepp"
      },
      "source": [
        "#Important parameters\n",
        "#Varying these parameters will produce different kinds of sound\n",
        "#Change these parameters and observe how final sound changes\n",
        "\n",
        "#Number of samples to be fed in output in every iteration\n",
        "L = 25\n",
        "\n",
        "#Total number of samples in the final audio\n",
        "N = 10000\n",
        "\n",
        "#Frequency of the final audio\n",
        "fs = 10000\n",
        "\n",
        "#Volume control of audio\n",
        "volume = 2000\n",
        "\n",
        "#Parameters for the initial condition of output line\n",
        "#Initial condition of output line is white gaussian noise in this program\n",
        "#You can try different kinds of noise\n",
        "mean = 0\n",
        "sd = 1   #Standard deviation"
      ],
      "execution_count": 11,
      "outputs": []
    },
    {
      "cell_type": "markdown",
      "metadata": {
        "id": "oTE3OX_Shbgv"
      },
      "source": [
        "Music synthesiser using Karplus Strong algorithm\n",
        "\n",
        "This notebook contains instructions for implementation of Karplus Strong algorithm in python"
      ]
    },
    {
      "cell_type": "code",
      "metadata": {
        "id": "XxgZNsYQhiXD"
      },
      "source": [
        "#Importing essential libraries\n",
        "import numpy as np\n",
        "import scipy.io.wavfile\n",
        "#from playsound import playsound\n",
        "\n",
        "#from scipy.io import wavfile"
      ],
      "execution_count": 12,
      "outputs": []
    },
    {
      "cell_type": "code",
      "metadata": {
        "id": "epMi3KnlhmTY"
      },
      "source": [
        "#Function to generate white noise for initial conditions of output line\n",
        "def white_noise_generator(mean, sd):\n",
        "  \"\"\"\n",
        "  Arguments\n",
        "  mean - mean of the white noise distribution\n",
        "  sd - standard deviation of white noise distribution\n",
        "  \n",
        "  Returns\n",
        "  numpy array of size L with mean and standard deviation as specified by arguments\n",
        "  \"\"\"\n",
        "  noise = np.random.normal(mean, sd, L)\n",
        "  return noise"
      ],
      "execution_count": 13,
      "outputs": []
    },
    {
      "cell_type": "code",
      "metadata": {
        "id": "8O5H9ibehtJN"
      },
      "source": [
        "#A low pass filter\n",
        "def filter_lp(signal):\n",
        "  \"\"\"\n",
        "  Arguments\n",
        "  signal - numpy array of size L\n",
        "\n",
        "  Returns\n",
        "  numpy array of size L\n",
        "\n",
        "  Example\n",
        "  If signal is [0, 1, 2, 3]\n",
        "  then function should return ([0, 1, 2, 3] + [3, 0, 1, 2])/2 = [1.5, 0.5, 1.5, 2.5]\n",
        "  \"\"\"\n",
        "  dis=np.roll(signal,1)\n",
        "  output= (signal+dis)/2\n",
        "  return output\n",
        "  \n",
        "  "
      ],
      "execution_count": 14,
      "outputs": []
    },
    {
      "cell_type": "code",
      "metadata": {
        "id": "nEC7RIMah2cx"
      },
      "source": [
        "#Main part of code\n",
        "\n",
        "#Initialize output numpy array with white noise\n",
        "output_signal=white_noise_generator(mean,sd)\n",
        "\n",
        "\n",
        "#Till output array does not have N samples append output of filter to output array\n",
        "buff=filter_lp(output_signal)\n",
        "output_signal=np.append(output_signal, buff)\n",
        "while len(output_signal)<N:\n",
        "    x=filter_lp(buff)\n",
        "    output_signal = np.append(output_signal, x)\n",
        "    \n",
        "#Set the volume of sound\n",
        "output_signal=volume*output_signal\n",
        "\n",
        "#Write output array to wavfile\n",
        "scipy.io.wavfile.write(\"y.wav\", fs, np.int16(output_signal))\n",
        "\n",
        "#playsound('example.wav')"
      ],
      "execution_count": 15,
      "outputs": []
    }
  ]
}